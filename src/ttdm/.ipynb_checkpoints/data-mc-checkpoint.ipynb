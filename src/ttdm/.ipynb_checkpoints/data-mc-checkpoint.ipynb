{
 "cells": [
  {
   "cell_type": "code",
   "execution_count": 1,
   "id": "e649340b-3d65-4ac4-a192-694dbbccebb1",
   "metadata": {},
   "outputs": [],
   "source": [
    "%load_ext autoreload\n",
    "%autoreload 2"
   ]
  },
  {
   "cell_type": "code",
   "execution_count": 2,
   "id": "24a23c79-dd0a-43f3-9d2f-3c165f5be373",
   "metadata": {},
   "outputs": [
    {
     "name": "stderr",
     "output_type": "stream",
     "text": [
      "/usr/local/lib/python3.12/site-packages/coffea/nanoevents/schemas/fcc.py:5: FutureWarning: In version 2025.1.0 (target date: 2024-12-31 11:59:59-06:00), this will be an error.\n",
      "To raise these warnings as errors (and get stack traces to find out where they're called), run\n",
      "    import warnings\n",
      "    warnings.filterwarnings(\"error\", module=\"coffea.*\")\n",
      "after the first `import coffea` or use `@pytest.mark.filterwarnings(\"error:::coffea.*\")` in pytest.\n",
      "Issue: coffea.nanoevents.methods.vector will be removed and replaced with scikit-hep vector. Nanoevents schemas internal to coffea will be migrated. Otherwise please consider using that package!.\n",
      "  from coffea.nanoevents.methods import vector\n"
     ]
    },
    {
     "name": "stdout",
     "output_type": "stream",
     "text": [
      "coffea: 2025.3.0\n",
      "dask: 2025.3.0\n",
      "awkward: 2.8.2\n",
      "hist: 2.8.0\n"
     ]
    }
   ],
   "source": [
    "import os\n",
    "import warnings\n",
    "from pathlib import Path\n",
    "import pickle\n",
    "\n",
    "import numpy as np\n",
    "import awkward as ak\n",
    "import coffea\n",
    "import dask\n",
    "import hist\n",
    "import hist.dask as hda\n",
    "from coffea.dataset_tools import apply_to_fileset, preprocess, max_files\n",
    "from dask.diagnostics import ProgressBar\n",
    "from coffea.nanoevents import ScoutingNanoAODSchema, NanoEventsFactory\n",
    "import matplotlib.pyplot as plt\n",
    "import mplhep as hep\n",
    "import cowtools\n",
    "from cowtools import GetCondorClient\n",
    "\n",
    "from processors.DataMCProcessor import DataMCProcessor\n",
    "\n",
    "warnings.filterwarnings(\"ignore\", module=\"coffea*\")\n",
    "ScoutingNanoAODSchema.warn_missing_crossrefs = False\n",
    "\n",
    "print(f\"coffea: {coffea.__version__}\")\n",
    "print(f\"dask: {dask.__version__}\")\n",
    "print(f\"awkward: {ak.__version__}\")\n",
    "print(f\"hist: {hist.__version__}\")"
   ]
  },
  {
   "cell_type": "code",
   "execution_count": 3,
   "id": "619e341a-ee3c-4c82-8a31-90a60c79d167",
   "metadata": {},
   "outputs": [],
   "source": [
    "def xrootd_glob(redirector, path, root_ttree):\n",
    "    local_matches = Path(\"/hdfs/\").glob(path.lstrip(\"/\"))\n",
    "    return {f\"{redirector}{str(p)[5:]}\" :  f\"{root_ttree}\" for p in local_matches if p.is_file()}"
   ]
  },
  {
   "cell_type": "code",
   "execution_count": 21,
   "id": "c4060a60-0b78-464a-b4d2-b6f11b5bb2ea",
   "metadata": {},
   "outputs": [],
   "source": [
    "redirector = \"root://cmsxrootd.hep.wisc.edu/\"\n",
    "fileset = {\n",
    "    \"mphi50\": {\n",
    "        \"files\" : xrootd_glob('root://cmsxrootd.hep.wisc.edu//', \"/store/user/athete/TTDMInclusiveScalar_mphi50/Run3Summer24wmLHE/ScoutingNanoAOD/*.root\", \"Events\")\n",
    "    },\n",
    "\n",
    "    \"mphi100\": {\n",
    "        \"files\" : xrootd_glob('root://cmsxrootd.hep.wisc.edu//', \"/store/user/athete/TTDMInclusiveScalar_mphi100/Run3Summer24wmLHE/ScoutingNanoAOD/*.root\", \"Events\")\n",
    "    },\n",
    "\n",
    "    \"mphi250\": {\n",
    "        \"files\" : xrootd_glob('root://cmsxrootd.hep.wisc.edu//', \"/store/user/athete/TTDMInclusiveScalar_mphi250/Run3Summer24wmLHE/ScoutingNanoAOD/*.root\", \"Events\")\n",
    "    },\n",
    "    \"data\" : {\n",
    "        \"files\": {\"root://cmsxrootd.fnal.gov///store/data/Run2024I/ScoutingPFRun3/NANOAOD/PromptReco-v2/000/386/694/00000/005815b0-42c7-4968-9666-f11e22b18a13.root\": \"Events\"}\n",
    "    }\n",
    "}"
   ]
  },
  {
   "cell_type": "code",
   "execution_count": 24,
   "id": "8d4726ca-c5bf-43e9-b236-82cc38671a5f",
   "metadata": {},
   "outputs": [
    {
     "name": "stdout",
     "output_type": "stream",
     "text": [
      "dask workers will run in /cvmfs/unpacked.cern.ch/registry.hub.docker.com/coffeateam/coffea-dask-almalinux9:2025.3.0-py3.12\n",
      "Condor logs, output files, error files in /scratch/athete\n"
     ]
    },
    {
     "name": "stderr",
     "output_type": "stream",
     "text": [
      "/bin/sh: warning: setlocale: LC_ALL: cannot change locale (en_US.UTF-8)\n",
      "/usr/local/lib/python3.12/site-packages/distributed/node.py:187: UserWarning: Port 8787 is already in use.\n",
      "Perhaps you already have a cluster running?\n",
      "Hosting the HTTP server on port 4499 instead\n",
      "  warnings.warn(\n"
     ]
    },
    {
     "data": {
      "text/html": [
       "<div>\n",
       "    <div style=\"width: 24px; height: 24px; background-color: #e1e1e1; border: 3px solid #9D9D9D; border-radius: 5px; position: absolute;\"> </div>\n",
       "    <div style=\"margin-left: 48px;\">\n",
       "        <h3 style=\"margin-bottom: 0px;\">Client</h3>\n",
       "        <p style=\"color: #9D9D9D; margin-bottom: 0px;\">Client-c8f9e927-634d-11f0-bc53-3cecefda85c8</p>\n",
       "        <table style=\"width: 100%; text-align: left;\">\n",
       "\n",
       "        <tr>\n",
       "        \n",
       "            <td style=\"text-align: left;\"><strong>Connection method:</strong> Cluster object</td>\n",
       "            <td style=\"text-align: left;\"><strong>Cluster type:</strong> dask_jobqueue.HTCondorCluster</td>\n",
       "        \n",
       "        </tr>\n",
       "\n",
       "        \n",
       "            <tr>\n",
       "                <td style=\"text-align: left;\">\n",
       "                    <strong>Dashboard: </strong> <a href=\"proxy/4499/status\" target=\"_blank\">proxy/4499/status</a>\n",
       "                </td>\n",
       "                <td style=\"text-align: left;\"></td>\n",
       "            </tr>\n",
       "        \n",
       "\n",
       "        </table>\n",
       "\n",
       "        \n",
       "            <button style=\"margin-bottom: 12px;\" data-commandlinker-command=\"dask:populate-and-launch-layout\" data-commandlinker-args='{\"url\": \"proxy/4499/status\" }'>\n",
       "                Launch dashboard in JupyterLab\n",
       "            </button>\n",
       "        \n",
       "\n",
       "        \n",
       "            <details>\n",
       "            <summary style=\"margin-bottom: 20px;\"><h3 style=\"display: inline;\">Cluster Info</h3></summary>\n",
       "            <div class=\"jp-RenderedHTMLCommon jp-RenderedHTML jp-mod-trusted jp-OutputArea-output\">\n",
       "    <div style=\"width: 24px; height: 24px; background-color: #e1e1e1; border: 3px solid #9D9D9D; border-radius: 5px; position: absolute;\">\n",
       "    </div>\n",
       "    <div style=\"margin-left: 48px;\">\n",
       "        <h3 style=\"margin-bottom: 0px; margin-top: 0px;\">HTCondorCluster</h3>\n",
       "        <p style=\"color: #9D9D9D; margin-bottom: 0px;\">202de84c</p>\n",
       "        <table style=\"width: 100%; text-align: left;\">\n",
       "            <tr>\n",
       "                <td style=\"text-align: left;\">\n",
       "                    <strong>Dashboard:</strong> <a href=\"proxy/4499/status\" target=\"_blank\">proxy/4499/status</a>\n",
       "                </td>\n",
       "                <td style=\"text-align: left;\">\n",
       "                    <strong>Workers:</strong> 0\n",
       "                </td>\n",
       "            </tr>\n",
       "            <tr>\n",
       "                <td style=\"text-align: left;\">\n",
       "                    <strong>Total threads:</strong> 0\n",
       "                </td>\n",
       "                <td style=\"text-align: left;\">\n",
       "                    <strong>Total memory:</strong> 0 B\n",
       "                </td>\n",
       "            </tr>\n",
       "            \n",
       "        </table>\n",
       "\n",
       "        <details>\n",
       "            <summary style=\"margin-bottom: 20px;\">\n",
       "                <h3 style=\"display: inline;\">Scheduler Info</h3>\n",
       "            </summary>\n",
       "\n",
       "            <div style=\"\">\n",
       "    <div>\n",
       "        <div style=\"width: 24px; height: 24px; background-color: #FFF7E5; border: 3px solid #FF6132; border-radius: 5px; position: absolute;\"> </div>\n",
       "        <div style=\"margin-left: 48px;\">\n",
       "            <h3 style=\"margin-bottom: 0px;\">Scheduler</h3>\n",
       "            <p style=\"color: #9D9D9D; margin-bottom: 0px;\">Scheduler-1549d19f-bdb7-4c97-ac78-2a8d672b5528</p>\n",
       "            <table style=\"width: 100%; text-align: left;\">\n",
       "                <tr>\n",
       "                    <td style=\"text-align: left;\">\n",
       "                        <strong>Comm:</strong> tcp://144.92.181.248:24391\n",
       "                    </td>\n",
       "                    <td style=\"text-align: left;\">\n",
       "                        <strong>Workers:</strong> 0\n",
       "                    </td>\n",
       "                </tr>\n",
       "                <tr>\n",
       "                    <td style=\"text-align: left;\">\n",
       "                        <strong>Dashboard:</strong> <a href=\"proxy/4499/status\" target=\"_blank\">proxy/4499/status</a>\n",
       "                    </td>\n",
       "                    <td style=\"text-align: left;\">\n",
       "                        <strong>Total threads:</strong> 0\n",
       "                    </td>\n",
       "                </tr>\n",
       "                <tr>\n",
       "                    <td style=\"text-align: left;\">\n",
       "                        <strong>Started:</strong> Just now\n",
       "                    </td>\n",
       "                    <td style=\"text-align: left;\">\n",
       "                        <strong>Total memory:</strong> 0 B\n",
       "                    </td>\n",
       "                </tr>\n",
       "            </table>\n",
       "        </div>\n",
       "    </div>\n",
       "\n",
       "    <details style=\"margin-left: 48px;\">\n",
       "        <summary style=\"margin-bottom: 20px;\">\n",
       "            <h3 style=\"display: inline;\">Workers</h3>\n",
       "        </summary>\n",
       "\n",
       "        \n",
       "\n",
       "    </details>\n",
       "</div>\n",
       "\n",
       "        </details>\n",
       "    </div>\n",
       "</div>\n",
       "            </details>\n",
       "        \n",
       "\n",
       "    </div>\n",
       "</div>"
      ],
      "text/plain": [
       "<Client: 'tcp://144.92.181.248:24391' processes=0 threads=0, memory=0 B>"
      ]
     },
     "execution_count": 24,
     "metadata": {},
     "output_type": "execute_result"
    }
   ],
   "source": [
    "MAX_WORKERS = 20\n",
    "client = GetCondorClient(\n",
    "    max_workers=MAX_WORKERS,\n",
    "    memory='4 GB',\n",
    "    disk='2 GB'\n",
    "    \n",
    ")\n",
    "client"
   ]
  },
  {
   "cell_type": "code",
   "execution_count": 23,
   "id": "5d4b2e5d-de09-4e7d-b4bd-8fbaaf7de772",
   "metadata": {},
   "outputs": [
    {
     "name": "stdout",
     "output_type": "stream",
     "text": [
      "About to preprocess\n",
      "[########################################] | 100% Completed | 102.10 ms\n",
      "Finished preprocessing.\n"
     ]
    }
   ],
   "source": [
    "with client, ProgressBar():\n",
    "    print(\"About to preprocess\")\n",
    "    fileset_runnable, _ = preprocess(fileset, step_size=10_000)\n",
    "    with open('filesets/fileset_ttdm_mphi50-250-data.pickle', 'wb') as handle:\n",
    "        pickle.dump(fileset_runnable, handle, protocol=pickle.HIGHEST_PROTOCOL)\n",
    "    print(\"Finished preprocessing.\")"
   ]
  },
  {
   "cell_type": "code",
   "execution_count": 25,
   "id": "f67a9761-fe99-4f7d-be93-48c5a8c52920",
   "metadata": {},
   "outputs": [
    {
     "name": "stdout",
     "output_type": "stream",
     "text": [
      "Loaded fileset.\n",
      "About to compute the outputs\n",
      "[########################################] | 100% Completed | 621.52 ms\n"
     ]
    },
    {
     "ename": "ValueError",
     "evalue": "Shapes do not align {'.0': {50, 172}}",
     "output_type": "error",
     "traceback": [
      "\u001b[31m---------------------------------------------------------------------------\u001b[39m",
      "\u001b[31mAttributeError\u001b[39m                            Traceback (most recent call last)",
      "\u001b[36mFile \u001b[39m\u001b[32m/usr/local/lib/python3.12/site-packages/dask/highlevelgraph.py:570\u001b[39m, in \u001b[36mHighLevelGraph.get_all_external_keys\u001b[39m\u001b[34m(self)\u001b[39m\n\u001b[32m    569\u001b[39m \u001b[38;5;28;01mtry\u001b[39;00m:\n\u001b[32m--> \u001b[39m\u001b[32m570\u001b[39m     \u001b[38;5;28;01mreturn\u001b[39;00m \u001b[38;5;28;43mself\u001b[39;49m\u001b[43m.\u001b[49m\u001b[43m_all_external_keys\u001b[49m\n\u001b[32m    571\u001b[39m \u001b[38;5;28;01mexcept\u001b[39;00m \u001b[38;5;167;01mAttributeError\u001b[39;00m:\n",
      "\u001b[31mAttributeError\u001b[39m: 'HighLevelGraph' object has no attribute '_all_external_keys'",
      "\nDuring handling of the above exception, another exception occurred:\n",
      "\u001b[31mValueError\u001b[39m                                Traceback (most recent call last)",
      "\u001b[36mCell\u001b[39m\u001b[36m \u001b[39m\u001b[32mIn[25]\u001b[39m\u001b[32m, line 18\u001b[39m\n\u001b[32m     16\u001b[39m     \u001b[38;5;66;03m# Actually compute the outputs\u001b[39;00m\n\u001b[32m     17\u001b[39m     \u001b[38;5;28mprint\u001b[39m(\u001b[33m\"\u001b[39m\u001b[33mAbout to compute the outputs\u001b[39m\u001b[33m\"\u001b[39m)\n\u001b[32m---> \u001b[39m\u001b[32m18\u001b[39m     coutputs_dist, creports_dist = \u001b[43mdask\u001b[49m\u001b[43m.\u001b[49m\u001b[43mcompute\u001b[49m\u001b[43m(\u001b[49m\u001b[43moutputs\u001b[49m\u001b[43m,\u001b[49m\u001b[43m \u001b[49m\u001b[43mreports\u001b[49m\u001b[43m)\u001b[49m\n\u001b[32m     19\u001b[39m     \u001b[38;5;28mprint\u001b[39m(\u001b[33m\"\u001b[39m\u001b[33mFinished computing outputs\u001b[39m\u001b[33m\"\u001b[39m)\n\u001b[32m     20\u001b[39m client.shutdown()\n",
      "\u001b[36mFile \u001b[39m\u001b[32m/usr/local/lib/python3.12/site-packages/dask/base.py:649\u001b[39m, in \u001b[36mcompute\u001b[39m\u001b[34m(traverse, optimize_graph, scheduler, get, *args, **kwargs)\u001b[39m\n\u001b[32m    641\u001b[39m     \u001b[38;5;28;01mreturn\u001b[39;00m args\n\u001b[32m    643\u001b[39m schedule = get_scheduler(\n\u001b[32m    644\u001b[39m     scheduler=scheduler,\n\u001b[32m    645\u001b[39m     collections=collections,\n\u001b[32m    646\u001b[39m     get=get,\n\u001b[32m    647\u001b[39m )\n\u001b[32m--> \u001b[39m\u001b[32m649\u001b[39m dsk = \u001b[43mcollections_to_dsk\u001b[49m\u001b[43m(\u001b[49m\u001b[43mcollections\u001b[49m\u001b[43m,\u001b[49m\u001b[43m \u001b[49m\u001b[43moptimize_graph\u001b[49m\u001b[43m,\u001b[49m\u001b[43m \u001b[49m\u001b[43m*\u001b[49m\u001b[43m*\u001b[49m\u001b[43mkwargs\u001b[49m\u001b[43m)\u001b[49m\n\u001b[32m    650\u001b[39m keys, postcomputes = [], []\n\u001b[32m    651\u001b[39m \u001b[38;5;28;01mfor\u001b[39;00m x \u001b[38;5;129;01min\u001b[39;00m collections:\n",
      "\u001b[36mFile \u001b[39m\u001b[32m/usr/local/lib/python3.12/site-packages/dask/base.py:420\u001b[39m, in \u001b[36mcollections_to_dsk\u001b[39m\u001b[34m(collections, optimize_graph, optimizations, **kwargs)\u001b[39m\n\u001b[32m    418\u001b[39m \u001b[38;5;28;01mfor\u001b[39;00m opt, val \u001b[38;5;129;01min\u001b[39;00m groups.items():\n\u001b[32m    419\u001b[39m     dsk, keys = _extract_graph_and_keys(val)\n\u001b[32m--> \u001b[39m\u001b[32m420\u001b[39m     dsk = \u001b[43mopt\u001b[49m\u001b[43m(\u001b[49m\u001b[43mdsk\u001b[49m\u001b[43m,\u001b[49m\u001b[43m \u001b[49m\u001b[43mkeys\u001b[49m\u001b[43m,\u001b[49m\u001b[43m \u001b[49m\u001b[43m*\u001b[49m\u001b[43m*\u001b[49m\u001b[43mkwargs\u001b[49m\u001b[43m)\u001b[49m\n\u001b[32m    422\u001b[39m     \u001b[38;5;28;01mfor\u001b[39;00m opt_inner \u001b[38;5;129;01min\u001b[39;00m optimizations:\n\u001b[32m    423\u001b[39m         dsk = opt_inner(dsk, keys, **kwargs)\n",
      "\u001b[36mFile \u001b[39m\u001b[32m/usr/local/lib/python3.12/site-packages/dask_awkward/lib/optimize.py:64\u001b[39m, in \u001b[36mall_optimizations\u001b[39m\u001b[34m(dsk, keys, **_)\u001b[39m\n\u001b[32m     62\u001b[39m dsk = fuse_roots(dsk, keys=keys)  \u001b[38;5;66;03m# type: ignore\u001b[39;00m\n\u001b[32m     63\u001b[39m \u001b[38;5;66;03m# cull unncessary tasks\u001b[39;00m\n\u001b[32m---> \u001b[39m\u001b[32m64\u001b[39m dsk = \u001b[43mdsk\u001b[49m\u001b[43m.\u001b[49m\u001b[43mcull\u001b[49m\u001b[43m(\u001b[49m\u001b[38;5;28;43mset\u001b[39;49m\u001b[43m(\u001b[49m\u001b[43mkeys\u001b[49m\u001b[43m)\u001b[49m\u001b[43m)\u001b[49m  \u001b[38;5;66;03m# type: ignore\u001b[39;00m\n\u001b[32m     66\u001b[39m \u001b[38;5;28;01mreturn\u001b[39;00m dsk\n",
      "\u001b[36mFile \u001b[39m\u001b[32m/usr/local/lib/python3.12/site-packages/dask/highlevelgraph.py:727\u001b[39m, in \u001b[36mHighLevelGraph.cull\u001b[39m\u001b[34m(self, keys)\u001b[39m\n\u001b[32m    723\u001b[39m \u001b[38;5;28;01mfrom\u001b[39;00m\u001b[38;5;250m \u001b[39m\u001b[34;01mdask\u001b[39;00m\u001b[34;01m.\u001b[39;00m\u001b[34;01mlayers\u001b[39;00m\u001b[38;5;250m \u001b[39m\u001b[38;5;28;01mimport\u001b[39;00m Blockwise\n\u001b[32m    725\u001b[39m keys_set = \u001b[38;5;28mset\u001b[39m(flatten(keys))\n\u001b[32m--> \u001b[39m\u001b[32m727\u001b[39m all_ext_keys = \u001b[38;5;28;43mself\u001b[39;49m\u001b[43m.\u001b[49m\u001b[43mget_all_external_keys\u001b[49m\u001b[43m(\u001b[49m\u001b[43m)\u001b[49m\n\u001b[32m    728\u001b[39m ret_layers: \u001b[38;5;28mdict\u001b[39m = {}\n\u001b[32m    729\u001b[39m ret_key_deps: \u001b[38;5;28mdict\u001b[39m = {}\n",
      "\u001b[36mFile \u001b[39m\u001b[32m/usr/local/lib/python3.12/site-packages/dask/highlevelgraph.py:577\u001b[39m, in \u001b[36mHighLevelGraph.get_all_external_keys\u001b[39m\u001b[34m(self)\u001b[39m\n\u001b[32m    572\u001b[39m keys: \u001b[38;5;28mset\u001b[39m = \u001b[38;5;28mset\u001b[39m()\n\u001b[32m    573\u001b[39m \u001b[38;5;28;01mfor\u001b[39;00m layer \u001b[38;5;129;01min\u001b[39;00m \u001b[38;5;28mself\u001b[39m.layers.values():\n\u001b[32m    574\u001b[39m     \u001b[38;5;66;03m# Note: don't use `keys |= ...`, because the RHS is a\u001b[39;00m\n\u001b[32m    575\u001b[39m     \u001b[38;5;66;03m# collections.abc.Set rather than a real set, and this will\u001b[39;00m\n\u001b[32m    576\u001b[39m     \u001b[38;5;66;03m# cause a whole new set to be constructed.\u001b[39;00m\n\u001b[32m--> \u001b[39m\u001b[32m577\u001b[39m     keys.update(\u001b[43mlayer\u001b[49m\u001b[43m.\u001b[49m\u001b[43mget_output_keys\u001b[49m\u001b[43m(\u001b[49m\u001b[43m)\u001b[49m)\n\u001b[32m    578\u001b[39m \u001b[38;5;28mself\u001b[39m._all_external_keys = keys\n\u001b[32m    579\u001b[39m \u001b[38;5;28;01mreturn\u001b[39;00m keys\n",
      "\u001b[36mFile \u001b[39m\u001b[32m/usr/local/lib/python3.12/site-packages/dask/blockwise.py:634\u001b[39m, in \u001b[36mBlockwise.get_output_keys\u001b[39m\u001b[34m(self)\u001b[39m\n\u001b[32m    628\u001b[39m     \u001b[38;5;28;01mreturn\u001b[39;00m {(\u001b[38;5;28mself\u001b[39m.output, *p) \u001b[38;5;28;01mfor\u001b[39;00m p \u001b[38;5;129;01min\u001b[39;00m \u001b[38;5;28mself\u001b[39m.output_blocks}\n\u001b[32m    630\u001b[39m \u001b[38;5;66;03m# Return all possible output keys (no culling)\u001b[39;00m\n\u001b[32m    631\u001b[39m \u001b[38;5;28;01mreturn\u001b[39;00m {\n\u001b[32m    632\u001b[39m     (\u001b[38;5;28mself\u001b[39m.output, *p)\n\u001b[32m    633\u001b[39m     \u001b[38;5;28;01mfor\u001b[39;00m p \u001b[38;5;129;01min\u001b[39;00m itertools.product(\n\u001b[32m--> \u001b[39m\u001b[32m634\u001b[39m         *[\u001b[38;5;28mrange\u001b[39m(\u001b[38;5;28;43mself\u001b[39;49m\u001b[43m.\u001b[49m\u001b[43mdims\u001b[49m[i]) \u001b[38;5;28;01mfor\u001b[39;00m i \u001b[38;5;129;01min\u001b[39;00m \u001b[38;5;28mself\u001b[39m.output_indices]\n\u001b[32m    635\u001b[39m     )\n\u001b[32m    636\u001b[39m }\n",
      "\u001b[36mFile \u001b[39m\u001b[32m/usr/local/lib/python3.12/site-packages/dask/blockwise.py:595\u001b[39m, in \u001b[36mBlockwise.dims\u001b[39m\u001b[34m(self)\u001b[39m\n\u001b[32m    591\u001b[39m \u001b[38;5;250m\u001b[39m\u001b[33;03m\"\"\"Returns a dictionary mapping between each index specified in\u001b[39;00m\n\u001b[32m    592\u001b[39m \u001b[33;03m`self.indices` and the number of output blocks for that indice.\u001b[39;00m\n\u001b[32m    593\u001b[39m \u001b[33;03m\"\"\"\u001b[39;00m\n\u001b[32m    594\u001b[39m \u001b[38;5;28;01mif\u001b[39;00m \u001b[38;5;129;01mnot\u001b[39;00m \u001b[38;5;28mhasattr\u001b[39m(\u001b[38;5;28mself\u001b[39m, \u001b[33m\"\u001b[39m\u001b[33m_dims\u001b[39m\u001b[33m\"\u001b[39m):\n\u001b[32m--> \u001b[39m\u001b[32m595\u001b[39m     \u001b[38;5;28mself\u001b[39m._dims = \u001b[43m_make_dims\u001b[49m\u001b[43m(\u001b[49m\u001b[38;5;28;43mself\u001b[39;49m\u001b[43m.\u001b[49m\u001b[43mindices\u001b[49m\u001b[43m,\u001b[49m\u001b[43m \u001b[49m\u001b[38;5;28;43mself\u001b[39;49m\u001b[43m.\u001b[49m\u001b[43mnumblocks\u001b[49m\u001b[43m,\u001b[49m\u001b[43m \u001b[49m\u001b[38;5;28;43mself\u001b[39;49m\u001b[43m.\u001b[49m\u001b[43mnew_axes\u001b[49m\u001b[43m)\u001b[49m\n\u001b[32m    596\u001b[39m \u001b[38;5;28;01mreturn\u001b[39;00m \u001b[38;5;28mself\u001b[39m._dims\n",
      "\u001b[36mFile \u001b[39m\u001b[32m/usr/local/lib/python3.12/site-packages/dask/blockwise.py:1515\u001b[39m, in \u001b[36m_make_dims\u001b[39m\u001b[34m(indices, numblocks, new_axes)\u001b[39m\n\u001b[32m   1511\u001b[39m \u001b[38;5;28;01mdef\u001b[39;00m\u001b[38;5;250m \u001b[39m\u001b[34m_make_dims\u001b[39m(indices, numblocks, new_axes):\n\u001b[32m   1512\u001b[39m \u001b[38;5;250m    \u001b[39m\u001b[33;03m\"\"\"Returns a dictionary mapping between each index specified in\u001b[39;00m\n\u001b[32m   1513\u001b[39m \u001b[33;03m    `indices` and the number of output blocks for that indice.\u001b[39;00m\n\u001b[32m   1514\u001b[39m \u001b[33;03m    \"\"\"\u001b[39;00m\n\u001b[32m-> \u001b[39m\u001b[32m1515\u001b[39m     dims = \u001b[43mbroadcast_dimensions\u001b[49m\u001b[43m(\u001b[49m\u001b[43mindices\u001b[49m\u001b[43m,\u001b[49m\u001b[43m \u001b[49m\u001b[43mnumblocks\u001b[49m\u001b[43m)\u001b[49m\n\u001b[32m   1516\u001b[39m     \u001b[38;5;28;01mfor\u001b[39;00m k, v \u001b[38;5;129;01min\u001b[39;00m new_axes.items():\n\u001b[32m   1517\u001b[39m         dims[k] = \u001b[38;5;28mlen\u001b[39m(v) \u001b[38;5;28;01mif\u001b[39;00m \u001b[38;5;28misinstance\u001b[39m(v, \u001b[38;5;28mtuple\u001b[39m) \u001b[38;5;28;01melse\u001b[39;00m \u001b[32m1\u001b[39m\n",
      "\u001b[36mFile \u001b[39m\u001b[32m/usr/local/lib/python3.12/site-packages/dask/blockwise.py:1506\u001b[39m, in \u001b[36mbroadcast_dimensions\u001b[39m\u001b[34m(argpairs, numblocks, sentinels, consolidate)\u001b[39m\n\u001b[32m   1503\u001b[39m     \u001b[38;5;28;01mreturn\u001b[39;00m toolz.valmap(consolidate, g2)\n\u001b[32m   1505\u001b[39m \u001b[38;5;28;01mif\u001b[39;00m g2 \u001b[38;5;129;01mand\u001b[39;00m \u001b[38;5;129;01mnot\u001b[39;00m \u001b[38;5;28mset\u001b[39m(\u001b[38;5;28mmap\u001b[39m(\u001b[38;5;28mlen\u001b[39m, g2.values())) == {\u001b[32m1\u001b[39m}:\n\u001b[32m-> \u001b[39m\u001b[32m1506\u001b[39m     \u001b[38;5;28;01mraise\u001b[39;00m \u001b[38;5;167;01mValueError\u001b[39;00m(\u001b[33m\"\u001b[39m\u001b[33mShapes do not align \u001b[39m\u001b[38;5;132;01m%s\u001b[39;00m\u001b[33m\"\u001b[39m % g)\n\u001b[32m   1508\u001b[39m \u001b[38;5;28;01mreturn\u001b[39;00m toolz.valmap(toolz.first, g2)\n",
      "\u001b[31mValueError\u001b[39m: Shapes do not align {'.0': {50, 172}}"
     ]
    }
   ],
   "source": [
    "with client, ProgressBar():\n",
    "    #Run across the fileset\n",
    "    with open('filesets/fileset_ttdm_mphi50-250-data.pickle', 'rb') as handle:\n",
    "        fileset_runnable = pickle.load(handle)\n",
    "    print(\"Loaded fileset.\")\n",
    "    outputs, reports = apply_to_fileset(\n",
    "        DataMCProcessor(isMC=True, delayed=True),\n",
    "        fileset_runnable,\n",
    "        schemaclass=ScoutingNanoAODSchema,\n",
    "        uproot_options={\n",
    "            \"allow_read_errors_with_report\": True,\n",
    "            \"skipbadfiles\": True,\n",
    "            \"timeout\": 5000,\n",
    "        },\n",
    "    )\n",
    "    # Actually compute the outputs\n",
    "    print(\"About to compute the outputs\")\n",
    "    coutputs_dist, creports_dist = dask.compute(outputs, reports)\n",
    "    print(\"Finished computing outputs\")\n",
    "client.shutdown()"
   ]
  },
  {
   "cell_type": "code",
   "execution_count": 19,
   "id": "e836206a-ee1c-4371-806f-e2dfc66af757",
   "metadata": {},
   "outputs": [
    {
     "data": {
      "text/plain": [
       "{'njet': Hist(\n",
       "   Regular(50, 0, 50, underflow=False, overflow=False, name='njets', label='Number of Jets'),\n",
       "   StrCategory(['6j2b', '4j1b'], name='region', label='Selection Region'),\n",
       "   storage=Weight()) # Sum: WeightedSum(value=0, variance=0),\n",
       " 'pt': Hist(\n",
       "   Regular(150, 0, 1500, underflow=False, overflow=False, name='pt', label='$p_T$ [GeV]'),\n",
       "   StrCategory(['6j2b', '4j1b'], name='region', label='Selection Region'),\n",
       "   storage=Weight()) # Sum: WeightedSum(value=0, variance=0),\n",
       " 'met': Hist(\n",
       "   Regular(70, 0, 700, underflow=False, overflow=False, name='met', label='$E^{\\\\rm miss}_T$ [GeV]'),\n",
       "   StrCategory(['6j2b', '4j1b'], name='region', label='Selection Region'),\n",
       "   storage=Weight()) # Sum: WeightedSum(value=0, variance=0),\n",
       " 'ht': Hist(\n",
       "   Regular(200, 0, 2000, underflow=False, overflow=False, name='ht', label='$H_T$ [GeV]'),\n",
       "   StrCategory(['6j2b', '4j1b'], name='region', label='Selection Region'),\n",
       "   storage=Weight()) # Sum: WeightedSum(value=0, variance=0),\n",
       " 'nevents': 60859}"
      ]
     },
     "execution_count": 19,
     "metadata": {},
     "output_type": "execute_result"
    }
   ],
   "source": [
    "coutputs_dist[\"data\"]"
   ]
  },
  {
   "cell_type": "code",
   "execution_count": 20,
   "id": "23d21430-362d-4545-a796-a869f757bb42",
   "metadata": {},
   "outputs": [
    {
     "name": "stderr",
     "output_type": "stream",
     "text": [
      "/usr/local/lib/python3.12/site-packages/mplhep/utils.py:486: RuntimeWarning: All sumw are zero!  Cannot compute meaningful error bars\n",
      "  return np.abs(method_fcn(self.values, variances) - self.values)\n"
     ]
    },
    {
     "data": {
      "text/plain": [
       "[StairsArtists(stairs=<matplotlib.patches.StepPatch object at 0x7f83652d64e0>, errorbar=<ErrorbarContainer object of 3 artists>, legend_artist=<ErrorbarContainer object of 3 artists>)]"
      ]
     },
     "execution_count": 20,
     "metadata": {},
     "output_type": "execute_result"
    },
    {
     "data": {
      "image/png": "[encoded data removed]",
      "text/plain": [
       "<Figure size 640x480 with 1 Axes>"
      ]
     },
     "metadata": {},
     "output_type": "display_data"
    }
   ],
   "source": [
    "coutputs_dist[\"mphi50\"]['met'][:, '6j2b'].plot1d()"
   ]
  },
  {
   "cell_type": "code",
   "execution_count": null,
   "id": "b23a4a26-b118-4693-962c-77f1ad9afbc6",
   "metadata": {},
   "outputs": [],
   "source": []
  }
 ],
 "metadata": {
  "kernelspec": {
   "display_name": "Python 3 (ipykernel)",
   "language": "python",
   "name": "python3"
  },
  "language_info": {
   "codemirror_mode": {
    "name": "ipython",
    "version": 3
   },
   "file_extension": ".py",
   "mimetype": "text/x-python",
   "name": "python",
   "nbconvert_exporter": "python",
   "pygments_lexer": "ipython3",
   "version": "3.12.9"
  }
 },
 "nbformat": 4,
 "nbformat_minor": 5
}
